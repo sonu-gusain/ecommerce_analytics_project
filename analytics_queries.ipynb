{
 "cells": [
  {
   "cell_type": "code",
   "execution_count": 1,
   "id": "0ca7f038",
   "metadata": {},
   "outputs": [],
   "source": [
    "from pyspark.sql.functions import *\n",
    "from pyspark.sql.types import *\n",
    "from pyspark.sql.window import * "
   ]
  },
  {
   "cell_type": "code",
   "execution_count": 2,
   "id": "518d1128",
   "metadata": {},
   "outputs": [],
   "source": [
    "from pyspark.sql import SparkSession\n",
    "spark = SparkSession.builder.appName(\"all_clean_tables\").getOrCreate()"
   ]
  },
  {
   "cell_type": "code",
   "execution_count": 3,
   "id": "32a8e04e",
   "metadata": {},
   "outputs": [],
   "source": [
    "customers = spark.read.parquet(\"C:/sonu gusain/ecommerce_project/cleaned_data/customer_cleaned\")\n",
    "locations = spark.read.parquet(\"C:/sonu gusain/ecommerce_project/cleaned_data/location_cleaned\")\n",
    "order_items = spark.read.parquet(\"C:/sonu gusain/ecommerce_project/cleaned_data/order_items_cleaned\")\n",
    "payments = spark.read.parquet(\"C:/sonu gusain/ecommerce_project/cleaned_data/payments_cleaned\")\n",
    "products = spark.read.parquet(\"C:/sonu gusain/ecommerce_project/cleaned_data/products_cleaned\")\n",
    "sellers = spark.read.parquet(\"C:/sonu gusain/ecommerce_project/cleaned_data/sellers_cleaned\")\n",
    "orders = spark.read.parquet(\"C:/sonu gusain/ecommerce_project/cleaned_data/orders_cleaned\")"
   ]
  },
  {
   "cell_type": "code",
   "execution_count": 4,
   "id": "dfc2799f",
   "metadata": {},
   "outputs": [
    {
     "name": "stdout",
     "output_type": "stream",
     "text": [
      "+--------------------+--------------------+------------------------+--------------+--------------+\n",
      "|         customer_id|  customer_unique_id|customer_zip_code_prefix| customer_city|customer_state|\n",
      "+--------------------+--------------------+------------------------+--------------+--------------+\n",
      "|aa0fbd830c89acc3d...|eabd76f3506262b0d...|                   80050|      curitiba|            PR|\n",
      "|4d5110d0a2b5239cb...|629fb99609e4613c7...|                    4427|     sao paulo|            SP|\n",
      "|8a4976f31f4c12074...|dfbde47bde19b04d0...|                   13412|    piracicaba|            SP|\n",
      "|856d87f37ded3711e...|b3285dd7fd409eaa1...|                   28495|       aperibe|            RJ|\n",
      "|7640f74e9d8d7cae3...|74bba753d0dfd62b4...|                   81925|      curitiba|            PR|\n",
      "|b03b8bf457533ef24...|90149dae3857b4459...|                    5782|     sao paulo|            SP|\n",
      "|48131e6c0bf7bd798...|5a3ee05d197e24b7b...|                   20520|rio de janeiro|            RJ|\n",
      "|0a788c899a1caa2d6...|b89e8adcd81b4e77d...|                   17455|        fernao|            SP|\n",
      "|aa1fd99d3fa9ef872...|369356185e190dbcc...|                    2611|     sao paulo|            SP|\n",
      "|e007ccb7fb0cf6844...|ae52fa61f27bd494a...|                   32670|         betim|            MG|\n",
      "|6b5e281c156324178...|88ef3169f5d6ac822...|                    3590|     sao paulo|            SP|\n",
      "|c567dd8049f216606...|4102cb7b6cea863b7...|                   13478|     americana|            SP|\n",
      "|f7aa8e63ec5f93126...|f0c1f570464c5f47c...|                   18150|        ibiuna|            SP|\n",
      "|f4c160bdd6f4515d6...|fbac3948da21dc052...|                    8475|     sao paulo|            SP|\n",
      "|bf1a6f9f94f61589f...|2dda014d2afe7ff1c...|                   39801| teofilo otoni|            MG|\n",
      "|9041817f69a9a5d00...|2f2b34be64b57bd7c...|                   90470|  porto alegre|            RS|\n",
      "|225ebef5545fbebaf...|6d16033b6ec1b05ed...|                   12515| guaratingueta|            SP|\n",
      "|8dbfab81577117fd0...|63b2513aba069664c...|                   93700|     campo bom|            RS|\n",
      "|6e9599527f2b3b476...|200b9bf6af757bf40...|                   84635| paulo frontin|            PR|\n",
      "|ae23994217f5ab1e6...|5400b0a06a48df3ef...|                    8320|     sao paulo|            SP|\n",
      "+--------------------+--------------------+------------------------+--------------+--------------+\n",
      "only showing top 20 rows\n",
      "\n"
     ]
    }
   ],
   "source": [
    "customers.show()"
   ]
  },
  {
   "cell_type": "code",
   "execution_count": 5,
   "id": "0fcfa699",
   "metadata": {},
   "outputs": [
    {
     "name": "stdout",
     "output_type": "stream",
     "text": [
      "+---------------------------+-------------------+-------------------+----------------+-----------------+\n",
      "|geolocation_zip_code_prefix|    geolocation_lat|    geolocation_lng|geolocation_city|geolocation_state|\n",
      "+---------------------------+-------------------+-------------------+----------------+-----------------+\n",
      "|                       1042|-23.544667372468112| -46.64066942714524|       são paulo|               SP|\n",
      "|                       1017| -23.55015993031922| -46.63146540189848|       sao paulo|               SP|\n",
      "|                       1033| -23.54077242862274| -46.63658627751788|       sao paulo|               SP|\n",
      "|                       1031|         -23.544207| -46.63628100000001|       sao paulo|               SP|\n",
      "|                       1032|-23.542460235356934| -46.63618792951116|       sao paulo|               SP|\n",
      "|                       1025| -23.53831532619036|  -46.6271321114026|       são paulo|               SP|\n",
      "|                       1156|-23.529733700530876| -46.66489047530148|       sao paulo|               SP|\n",
      "|                       1226|  -23.5412626902591|-46.654883460586326|       sao paulo|               SP|\n",
      "|                       1216|-23.533621731894474| -46.64777631043339|       sao paulo|               SP|\n",
      "|                       1230|-23.536636826533552|-46.658705201915865|       sao paulo|               SP|\n",
      "|                       1229| -23.54096134139296|-46.657748702752585|       sao paulo|               SP|\n",
      "|                       1222|-23.547159576461446| -46.64989460560333|       sao paulo|               SP|\n",
      "|                       1230|-23.541453553880487| -46.65869187785594|       sao paulo|               SP|\n",
      "|                       1210| -23.54142195614291|-46.644031011512524|       sao paulo|               SP|\n",
      "|                       1227|-23.548777145161257| -46.65914568414225|       sao paulo|               SP|\n",
      "|                       1308| -23.55510944685208| -46.65201484401868|       sao paulo|               SP|\n",
      "|                       1321| -23.56300106411219| -46.64208086026307|       são paulo|               SP|\n",
      "|                       1308|-23.556145432685167| -46.65196158756995|       são paulo|               SP|\n",
      "|                       1306|-23.553194071325546| -46.65091122869184|       sao paulo|               SP|\n",
      "|                       1306| -23.55326696142303|  -46.6509317529863|       são paulo|               SP|\n",
      "+---------------------------+-------------------+-------------------+----------------+-----------------+\n",
      "only showing top 20 rows\n",
      "\n"
     ]
    }
   ],
   "source": [
    "locations.show()"
   ]
  },
  {
   "cell_type": "code",
   "execution_count": 6,
   "id": "eff8bb5c",
   "metadata": {},
   "outputs": [
    {
     "name": "stdout",
     "output_type": "stream",
     "text": [
      "+--------------------+-------------+--------------------+--------------------+-------------------+-------+-------------+\n",
      "|            order_id|order_item_id|          product_id|           seller_id|shipping_limit_date|  price|freight_value|\n",
      "+--------------------+-------------+--------------------+--------------------+-------------------+-------+-------------+\n",
      "|00858d03144cc35cf...|            1|e40fa115d27ea4a80...|d91fb3b7d041e83b6...|2018-03-20 23:09:38|  165.0|        19.03|\n",
      "|010b143d83a59b355...|            2|6ff1fc9209c785470...|4e922959ae960d389...|2017-09-05 23:44:47|   22.0|        34.15|\n",
      "|019ccfeea1ea9afbe...|            1|ead9ade61e81ab9e2...|4bf2f4ee540798a61...|2017-12-01 15:58:17|  152.0|        15.81|\n",
      "|01d601c4d70f016f1...|            1|d99a9035db5875b38...|31344c16881c08a8a...|2017-05-18 01:30:11|  229.9|        43.98|\n",
      "|023669233121f0fb7...|            1|6b6b162b177d0f369...|070d165398b553f3b...|2018-04-23 04:54:27| 109.99|        23.25|\n",
      "|0261b9a1fd7da49ce...|            1|658c48e890d98bb89...|51702dc2a3e106c76...|2017-03-06 23:50:19|  169.0|        29.46|\n",
      "|02bd584dedf7373cb...|            1|9ea1152d6d52dc57a...|e9779976487b77c6d...|2018-08-07 21:50:14|   54.0|        23.18|\n",
      "|02d3254501ce969c2...|            1|8c591ab0ca5195587...|a1043bafd471dff53...|2018-07-17 20:44:01|  99.99|        23.69|\n",
      "|0301ec492e902f263...|            1|6cdd53843498f9289...|ccc4bbb5f32a6ab2b...|2017-09-11 16:15:17|  349.9|         29.3|\n",
      "|0332e2e8114f59044...|            1|f40876e0ef3cd5f91...|620c87c171fb2a6dd...|2018-05-15 21:31:45|  119.9|        13.31|\n",
      "|0393dfaf21e966fda...|            1|25292482a61cb3298...|edb1ef5e36e0c8cd8...|2017-12-14 10:50:04|1149.65|         22.8|\n",
      "|03976e284ff273b3e...|            1|242edc6b84c00f0d4...|6cd68b3ed6d59aaa9...|2017-09-11 14:43:50|   54.9|         13.4|\n",
      "|03dec253b6e471bd5...|            1|f83c9874b5b5044ea...|2e90cb1677d35cfe2...|2017-07-03 11:05:43|  132.7|        25.68|\n",
      "|04652586a8416e686...|            1|44d097d59e8430f88...|6560211a19b47992c...|2018-08-03 04:35:22|   69.0|        19.39|\n",
      "|048d1e40afa8d7564...|            1|416d75e3094f3393b...|4b5f66b7adcf57f1e...|2017-12-12 03:31:06|  169.9|        14.21|\n",
      "|04ab36803e2945bac...|            1|d1859a58e608b68f4...|1900267e848ceeba8...|2017-10-17 19:07:56|  38.99|        16.11|\n",
      "|06375e8bcbe64fb1d...|            1|218bdd5d01fa00001...|ad97a199236354e53...|2018-03-06 09:31:19|1899.05|        82.17|\n",
      "|066bb47ddf11dd2a7...|            1|418aafa8794c4c22b...|44073f8b7e41514de...|2017-05-09 20:41:36|  230.0|        18.61|\n",
      "|067ce97888318cd8d...|            1|7fda46e6f8996ebe3...|3b15288545f8928d3...|2017-10-19 18:56:27|  99.99|        25.54|\n",
      "|068ef03abe3932345...|            1|ea3d1fd6192d8c444...|8d899e15a5925f097...|2018-06-29 20:17:35|   67.0|         9.78|\n",
      "+--------------------+-------------+--------------------+--------------------+-------------------+-------+-------------+\n",
      "only showing top 20 rows\n",
      "\n"
     ]
    }
   ],
   "source": [
    "order_items.show()"
   ]
  },
  {
   "cell_type": "code",
   "execution_count": 7,
   "id": "00f8b594",
   "metadata": {},
   "outputs": [
    {
     "name": "stdout",
     "output_type": "stream",
     "text": [
      "+--------------------+------------------+------------+--------------------+-------------+\n",
      "|            order_id|payment_sequential|payment_type|payment_installments|payment_value|\n",
      "+--------------------+------------------+------------+--------------------+-------------+\n",
      "|f1b7c83171b22e2ba...|                 1| credit_card|                   2|        44.27|\n",
      "|cbb39c59f8084f27c...|                 1|         UPI|                   1|       244.35|\n",
      "|069872f35a2ed2d45...|                 1| credit_card|                   1|        72.62|\n",
      "|5bec9dad5626dc4e8...|                 1| credit_card|                   6|        63.06|\n",
      "|a86ad6bfca543eb89...|                 1|         UPI|                   1|        93.82|\n",
      "|e715706f59e1a868d...|                 1|     voucher|                   1|       191.09|\n",
      "|91d0935ba0d6f6300...|                 1| credit_card|                   3|         35.0|\n",
      "|2a1ceca1522e8bf48...|                 1| credit_card|                   1|        58.98|\n",
      "|5daa05e23e3d4dc6b...|                 1|  debit_card|                   1|        22.38|\n",
      "|e0e8bc6045cfe08b0...|                 1|         UPI|                   1|       164.53|\n",
      "|7536412c065c3c88c...|                 1| credit_card|                   2|        28.09|\n",
      "|da2259f43effcc1ad...|                 1| credit_card|                   6|        92.71|\n",
      "|be16956e185d1e4f5...|                 1| credit_card|                   5|        57.77|\n",
      "|7942fdd6290ee4b29...|                 1| credit_card|                  10|       139.62|\n",
      "|355c14cca8fef764e...|                 1| credit_card|                   6|        66.42|\n",
      "|6c825e27cef5e047f...|                 1| credit_card|                   1|        55.96|\n",
      "|90c76224c097ab3cc...|                 1| credit_card|                   1|       245.85|\n",
      "|b5d77498cbd81c314...|                 1| credit_card|                   5|       128.14|\n",
      "|af4a3b84719be0c30...|                 1| credit_card|                   1|        28.01|\n",
      "|1836449b27f639406...|                 1| credit_card|                   1|        16.39|\n",
      "+--------------------+------------------+------------+--------------------+-------------+\n",
      "only showing top 20 rows\n",
      "\n"
     ]
    }
   ],
   "source": [
    "payments.show()"
   ]
  },
  {
   "cell_type": "code",
   "execution_count": 8,
   "id": "7e4d5d53",
   "metadata": {},
   "outputs": [
    {
     "name": "stdout",
     "output_type": "stream",
     "text": [
      "+--------------------+--------------------+-------------------+--------------------------+------------------+----------------+-----------------+-----------------+----------------+\n",
      "|          product_id|    product category|product_name_length|product_description_length|product_photos_qty|product_weight_g|product_length_cm|product_height_cm|product_width_cm|\n",
      "+--------------------+--------------------+-------------------+--------------------------+------------------+----------------+-----------------+-----------------+----------------+\n",
      "|fa9cf28beaafe4f4b...|Furniture Decoration|                 47|                       470|                 3|             400|               35|                6|              15|\n",
      "|31eb78f384a585823...|    stationary store|                 57|                       223|                 4|            1500|               60|               20|              29|\n",
      "|35c5e00f6a23366ce...|       sport leisure|                 41|                       194|                 1|             100|               25|               20|              20|\n",
      "|b15b38f8a24ce6254...|          automotive|                 50|                       214|                 4|            1600|               25|                9|              17|\n",
      "|4228bf901c8db392c...|         electronics|                 42|                       943|                 1|             200|               20|               20|              20|\n",
      "|9defd1ffa1cecec71...|Furniture Decoration|                 53|                       811|                 3|             400|               50|                3|              25|\n",
      "|a448325c57fbf792a...|       climatization|                 63|                      1729|                 3|            4800|               72|                5|              11|\n",
      "|b9c7a57c9d01c95a4...|     Watches present|                 60|                       159|                 1|             150|               16|                2|              11|\n",
      "|a194f3df8d9270f35...|computer accessories|                 35|                       843|                 1|             275|               19|               10|              13|\n",
      "|3ffa02e2ee2ce17ab...|                toys|                 25|                       242|                 4|             200|               16|                8|              11|\n",
      "|7bc54db14f2630ffa...|      bed table bath|                 48|                       320|                 1|             250|               25|               10|              20|\n",
      "|4c8dfecc09a4b15b7...|    stationary store|                 64|                       582|                 1|             700|               19|               44|              31|\n",
      "|4abee1df902ca6e48...|      bed table bath|                 48|                       610|                 2|           30000|               80|               40|              70|\n",
      "|3aa038240692a414f...|Construction Tool...|                 32|                       120|                 1|            3050|               16|               16|              16|\n",
      "|736f1b87428f9cfe5...|      bed table bath|                 46|                       684|                 1|            1500|               40|               15|              32|\n",
      "|de9305867467640be...|       sport leisure|                 49|                      1263|                 2|           17550|              105|               65|              25|\n",
      "|0f24b7516c5b67c9c...|                toys|                 50|                      1099|                 2|             430|               38|               12|              20|\n",
      "|6bd248f93425ceeb6...|    stationary store|                 39|                       217|                 1|             550|               46|               10|              32|\n",
      "|b36858b52183f641b...|        ELECTRICES 2|                 46|                       373|                 3|           15750|               68|               23|              68|\n",
      "|e96867993d08fadbc...|           perfumery|                 40|                       280|                 1|             408|               20|               14|              17|\n",
      "+--------------------+--------------------+-------------------+--------------------------+------------------+----------------+-----------------+-----------------+----------------+\n",
      "only showing top 20 rows\n",
      "\n"
     ]
    }
   ],
   "source": [
    "products.show()"
   ]
  },
  {
   "cell_type": "code",
   "execution_count": 9,
   "id": "96142520",
   "metadata": {},
   "outputs": [
    {
     "name": "stdout",
     "output_type": "stream",
     "text": [
      "+--------------------+----------------------+--------------------+------------+\n",
      "|           seller_id|seller_zip_code_prefix|         seller_city|seller_state|\n",
      "+--------------------+----------------------+--------------------+------------+\n",
      "|f6122bc84774df1b3...|                  6436|             barueri|          SP|\n",
      "|8132b9bd16876e1b0...|                 88058|       florianopolis|          SC|\n",
      "|a254c682cc01e119f...|                 16500|          cafelandia|          SP|\n",
      "|cb9fb4ca75d7ba843...|                  3551|           sao paulo|          SP|\n",
      "|c5ebe6598748b0aea...|                 95910|             lajeado|          RS|\n",
      "|bd15ee794d5e640d9...|                 14078|      ribeirao preto|          SP|\n",
      "|7994b065a7ffb14e7...|                 29142|      cariacica / es|          ES|\n",
      "|67883baaae6134ee8...|                  1310|           sao paulo|          SP|\n",
      "|f52c2422904463fdd...|                  9230|santo andre/sao p...|          SP|\n",
      "|528bcf6680c36dddf...|                  3178|           sao paulo|          SP|\n",
      "|ea3ebea5317b0efbc...|                 88036|       florianopolis|          SC|\n",
      "|a218df5c097b0ca40...|                 14806|          araraquara|          SP|\n",
      "|f08a5b9dd67671296...|                 90230|        porto alegre|          RS|\n",
      "|13511db12ac61e2f8...|                 95020|       caxias do sul|          RS|\n",
      "|30a2f535bb48308f9...|                 13457|santa barbara d'o...|          SP|\n",
      "|83c8aafbefb034674...|                 85601|   francisco beltrao|          PR|\n",
      "|7e26c750b4cb9f676...|                 30270|      belo horizonte|          MG|\n",
      "|f3055483058c84d75...|                 40368|            salvador|          BA|\n",
      "|c458e2045a8aa8964...|                  9572|  sao caetano do sul|          SP|\n",
      "|ccb83a794700270fd...|                 88960|             sombrio|          SC|\n",
      "+--------------------+----------------------+--------------------+------------+\n",
      "only showing top 20 rows\n",
      "\n"
     ]
    }
   ],
   "source": [
    "sellers.show()"
   ]
  },
  {
   "cell_type": "code",
   "execution_count": 10,
   "id": "41ae078f",
   "metadata": {},
   "outputs": [
    {
     "name": "stdout",
     "output_type": "stream",
     "text": [
      "+--------------------+--------------------+------------+------------------------+-------------------+----------------------------+-----------------------------+-----------------------------+----+-----+---+------------------+\n",
      "|            order_id|         customer_id|order_status|order_purchase_timestamp|  order_approved_at|order_delivered_carrier_date|order_delivered_customer_date|order_estimated_delivery_date|year|month|day|delibery_time_diff|\n",
      "+--------------------+--------------------+------------+------------------------+-------------------+----------------------------+-----------------------------+-----------------------------+----+-----+---+------------------+\n",
      "|9d531c565e28c3e0d...|d4faa220408c20e53...|   delivered|     2017-11-28 21:00:44|2017-12-01 09:31:15|         2017-12-14 20:37:43|          2018-01-23 21:38:52|          2017-12-22 00:00:00|2017|   11| 28|                56|\n",
      "|95a74a28d622001aa...|b3519c0352b07bc30...|   delivered|     2017-11-16 14:32:06|2017-11-17 14:25:26|         2017-11-20 12:49:03|          2017-11-29 00:44:50|          2017-12-06 00:00:00|2017|   11| 16|                13|\n",
      "|00125cb692d048878...|8afb90a97ee661103...|   delivered|     2017-03-23 12:21:17|2017-03-23 13:05:42|         2017-03-27 08:58:04|          2017-04-07 15:32:47|          2017-04-20 00:00:00|2017|    3| 23|                15|\n",
      "|f18f5dcedf8a6caf5...|d48b4e169e5bbf1d2...|   delivered|     2018-02-26 15:18:18|2018-02-27 15:15:43|         2018-02-28 22:22:07|          2018-03-19 20:46:42|          2018-04-05 00:00:00|2018|    2| 26|                21|\n",
      "|84d6d9710c8af32b5...|1099d033c74a027a7...|   delivered|     2018-01-27 22:09:48|2018-01-27 22:35:25|         2018-02-02 14:44:52|          2018-02-06 19:35:01|          2018-02-14 00:00:00|2018|    1| 27|                10|\n",
      "|14bec9a20933b2194...|b6e2d2a4ace19ed16...|   delivered|     2018-07-29 15:36:28|2018-07-29 15:50:17|         2018-07-30 13:44:00|          2018-08-10 21:43:20|          2018-08-13 00:00:00|2018|    7| 29|                12|\n",
      "|6596197a74edd396e...|524d1030b6d659f0a...|   delivered|     2018-02-07 20:18:57|2018-02-07 20:33:02|         2018-02-09 16:44:31|          2018-02-15 15:38:45|          2018-03-05 00:00:00|2018|    2|  7|                 8|\n",
      "|4d19a84d4fe92e95e...|c286d8d1ca1868b73...|   delivered|     2017-07-25 22:57:29|2017-07-25 23:10:14|         2017-07-26 20:04:25|          2017-08-01 20:56:31|          2017-08-16 00:00:00|2017|    7| 25|                 7|\n",
      "|5db2ef66c9c43c3ed...|8f9dd2625351d1727...|   delivered|     2017-08-15 16:00:04|2017-08-15 17:10:21|         2017-08-16 18:10:17|          2017-09-01 19:26:49|          2017-09-11 00:00:00|2017|    8| 15|                17|\n",
      "|e48247404129e1891...|f90c4fc69ee075a66...|   delivered|     2018-01-16 13:55:43|2018-01-18 02:13:14|         2018-01-18 22:26:41|          2018-01-26 20:46:48|          2018-02-08 00:00:00|2018|    1| 16|                10|\n",
      "|1c32916fec4ddbdf5...|b22268461b6f04a95...|   delivered|     2017-05-15 21:52:26|2017-05-15 22:05:21|         2017-05-18 13:47:50|          2017-05-23 18:29:02|          2017-05-26 00:00:00|2017|    5| 15|                 8|\n",
      "|432be65264b405505...|1e218eee4b25d4e79...|   delivered|     2018-04-06 20:46:51|2018-04-06 21:08:45|         2018-04-09 20:41:43|          2018-04-10 21:55:39|          2018-04-23 00:00:00|2018|    4|  6|                 4|\n",
      "|b760ac65b36c9bbc9...|686ce156cefdae2f4...|   delivered|     2017-12-04 11:57:38|2017-12-04 16:31:14|         2017-12-05 20:55:38|          2017-12-11 15:58:59|          2017-12-27 00:00:00|2017|   12|  4|                 7|\n",
      "|abcbd7d5a339a1f5f...|da90cf906fefe4363...|   delivered|     2018-03-24 20:43:24|2018-03-24 20:56:07|         2018-03-30 00:11:56|          2018-04-12 22:09:50|          2018-04-26 00:00:00|2018|    3| 24|                19|\n",
      "|36a6432a0a4312955...|03a5dc88300acdc63...|   delivered|     2018-08-22 00:07:15|2018-08-22 00:24:20|         2018-08-22 10:32:00|          2018-08-28 15:03:35|          2018-09-03 00:00:00|2018|    8| 22|                 6|\n",
      "|bb0c9e9838bfd4b39...|af38d27face41cf31...|   delivered|     2018-02-28 16:50:55|2018-02-28 17:10:44|         2018-03-02 20:07:32|          2018-03-07 23:19:11|          2018-03-14 00:00:00|2018|    2| 28|                 7|\n",
      "|245d1537baa4ed68d...|8281392ae6bb39d84...|   delivered|     2018-02-11 23:27:52|2018-02-15 03:55:46|         2018-02-27 23:38:59|          2018-03-20 14:32:41|          2018-03-14 00:00:00|2018|    2| 11|                37|\n",
      "|8650f273b9279f880...|1a6cb0e076784a5e7...|   delivered|     2017-06-22 11:05:14|2017-06-22 11:15:24|         2017-06-24 06:33:34|          2017-06-29 11:42:17|          2017-07-12 00:00:00|2017|    6| 22|                 7|\n",
      "|7974289bffc998c32...|ad0c681bc5c048b9c...|   delivered|     2017-02-05 01:01:05|2017-02-05 01:10:10|         2017-02-06 11:51:47|          2017-02-09 09:05:03|          2017-03-16 00:00:00|2017|    2|  5|                 4|\n",
      "|a2c2158d6a2596315...|b4e237973ec5c3b1c...|   delivered|     2017-05-31 13:55:04|2017-06-01 14:02:40|         2017-06-21 11:41:10|          2017-06-26 12:41:52|          2017-06-23 00:00:00|2017|    5| 31|                26|\n",
      "+--------------------+--------------------+------------+------------------------+-------------------+----------------------------+-----------------------------+-----------------------------+----+-----+---+------------------+\n",
      "only showing top 20 rows\n",
      "\n"
     ]
    }
   ],
   "source": [
    "orders.show()"
   ]
  },
  {
   "cell_type": "markdown",
   "id": "ec125eb0",
   "metadata": {},
   "source": [
    "# the monthly revenue trend?"
   ]
  },
  {
   "cell_type": "code",
   "execution_count": 4,
   "id": "895cb996",
   "metadata": {},
   "outputs": [
    {
     "name": "stdout",
     "output_type": "stream",
     "text": [
      "+----------+------------------+\n",
      "|year_month|   monthly_revenue|\n",
      "+----------+------------------+\n",
      "|   2016-10|          34438.41|\n",
      "|   2016-11|          11187.07|\n",
      "|   2016-12| 960.8500000000001|\n",
      "|   2017-01|38708.630000000005|\n",
      "|   2017-02|         228152.25|\n",
      "|   2017-03|387275.31999999983|\n",
      "|   2017-04|307722.83999999985|\n",
      "|   2017-05| 600917.7599999995|\n",
      "|   2017-06| 502197.9699999995|\n",
      "|   2017-07| 531271.7099999996|\n",
      "|   2017-08| 627367.1899999995|\n",
      "|   2017-09| 670205.7699999998|\n",
      "|   2017-10| 759903.9799999999|\n",
      "|   2017-11| 754668.9799999997|\n",
      "|   2017-12|1102232.6200000006|\n",
      "|   2018-01| 993588.7399999996|\n",
      "|   2018-02| 875514.1899999995|\n",
      "|   2018-03|1043754.6099999999|\n",
      "|   2018-04|1300791.6700000009|\n",
      "|   2018-05|1170501.1399999997|\n",
      "+----------+------------------+\n",
      "only showing top 20 rows\n",
      "\n"
     ]
    }
   ],
   "source": [
    "joins = payments.alias(\"p\").join(orders.alias(\"o\") , col(\"p.order_id\")== col(\"o.order_id\") , \"inner\")\n",
    "date_delivered = joins.withColumn(\"year_month\" , date_format(\"order_delivered_customer_date\",  \"yyyy-MM\"))\\\n",
    ".filter(col(\"order_status\")==\"delivered\")\n",
    "monthly_revenue = date_delivered.groupby(\"year_month\").agg(sum(\"payment_value\").alias(\"monthly_revenue\"))\n",
    "monthly_revenue.orderBy(\"year_month\").show()"
   ]
  },
  {
   "cell_type": "markdown",
   "id": "73883c20",
   "metadata": {},
   "source": [
    "#  the average order value each month"
   ]
  },
  {
   "cell_type": "code",
   "execution_count": 5,
   "id": "b051776a",
   "metadata": {},
   "outputs": [
    {
     "name": "stdout",
     "output_type": "stream",
     "text": [
      "+----------+-------------------+\n",
      "|year_month|average_order_value|\n",
      "+----------+-------------------+\n",
      "|   2016-10| 167.99224390243904|\n",
      "|   2016-11| 196.26438596491226|\n",
      "|   2016-12|           240.2125|\n",
      "|   2017-01|  136.7796113074205|\n",
      "|   2017-02|  168.8765729089562|\n",
      "|   2017-03| 162.58409739714514|\n",
      "|   2017-04| 166.42663061114104|\n",
      "|   2017-05| 160.20201546254316|\n",
      "|   2017-06|  155.8169314303443|\n",
      "|   2017-07| 153.76894645441385|\n",
      "|   2017-08| 145.83151789865173|\n",
      "|   2017-09|  169.0304590163935|\n",
      "|   2017-10| 169.09300845571883|\n",
      "|   2017-11| 161.63396444634816|\n",
      "|   2017-12|   152.981626648161|\n",
      "|   2018-01|  150.6122085796574|\n",
      "|   2018-02| 149.66054529914518|\n",
      "|   2018-03| 152.95348915592032|\n",
      "|   2018-04| 165.70594522292996|\n",
      "|   2018-05|  164.6042947546057|\n",
      "+----------+-------------------+\n",
      "only showing top 20 rows\n",
      "\n"
     ]
    }
   ],
   "source": [
    "joins = payments.alias(\"p\").join(orders.alias(\"o\") , col(\"p.order_id\")== col(\"o.order_id\") , \"inner\")\n",
    "date_delivered = joins.withColumn(\"year_month\" , date_format(\"order_delivered_customer_date\",  \"yyyy-MM\"))\\\n",
    ".filter(col(\"order_status\")==\"delivered\")\n",
    "groupof = date_delivered.groupby(\"year_month\").agg(countDistinct(\"o.order_id\").alias(\"order_count\"),\n",
    "sum(\"payment_value\").alias(\"total_payment\"))\n",
    "groupof.withColumn(\"average_order_value\" , col(\"total_payment\") / col(\"order_count\"))\\\n",
    ".orderBy(\"year_month\")\\\n",
    ".select(\"year_month\",\"average_order_value\").show()"
   ]
  },
  {
   "cell_type": "markdown",
   "id": "f365dee9",
   "metadata": {},
   "source": [
    "# 10 products are sold the most? (by quantity)"
   ]
  },
  {
   "cell_type": "code",
   "execution_count": 13,
   "id": "3230b986",
   "metadata": {},
   "outputs": [
    {
     "name": "stdout",
     "output_type": "stream",
     "text": [
      "+--------------------+----------+\n",
      "|          product_id|units_sold|\n",
      "+--------------------+----------+\n",
      "|aca2eb7d00ea1a7b8...|       527|\n",
      "|99a4788cb24856965...|       488|\n",
      "|422879e10f4668299...|       484|\n",
      "|389d119b48cf3043d...|       392|\n",
      "|368c6c730842d7801...|       388|\n",
      "|53759a2ecddad2bb8...|       373|\n",
      "|d1c427060a0f73f6b...|       343|\n",
      "|53b36df67ebb7c415...|       323|\n",
      "|154e7e31ebfa09220...|       281|\n",
      "|3dd2a17168ec895c7...|       274|\n",
      "+--------------------+----------+\n",
      "\n"
     ]
    }
   ],
   "source": [
    "\n",
    "top_10_sold_products = order_items.groupBy(\"product_id\").agg(\n",
    "    count(\"product_id\").alias(\"units_sold\")\n",
    ").orderBy(col(\"units_sold\").desc()).limit(10)\n",
    "\n",
    "top_10_sold_products.show()"
   ]
  },
  {
   "cell_type": "markdown",
   "id": "ebc53351",
   "metadata": {},
   "source": [
    "# the top 10 sellers by revenue?"
   ]
  },
  {
   "cell_type": "code",
   "execution_count": 31,
   "id": "38affe95",
   "metadata": {},
   "outputs": [
    {
     "name": "stdout",
     "output_type": "stream",
     "text": [
      "+--------------------+------------------+\n",
      "|           seller_id|     total_revenue|\n",
      "+--------------------+------------------+\n",
      "|4869f7a5dfa277a7d...|247007.06000000003|\n",
      "|7c67e1448b00f6e96...|237806.68999999997|\n",
      "|4a3ca9315b744ce9f...|231220.42999999988|\n",
      "|53243585a1d6dc264...|230797.01999999993|\n",
      "|fa1c13f2614d7b5c4...|          200833.5|\n",
      "|da8622b14eb17ae28...|         184706.78|\n",
      "|7e93a43ef30c4f03f...|171973.55000000002|\n",
      "|1025f0e2d44d7041d...|171924.96000000005|\n",
      "|7a67c85e85bb2ce85...|         160278.52|\n",
      "|955fee9216a65b617...|156606.47999999998|\n",
      "+--------------------+------------------+\n",
      "\n"
     ]
    }
   ],
   "source": [
    "joins = orders.alias(\"o\").join(order_items.alias(\"oi\") , col(\"oi.order_id\")== col(\"o.order_id\"))\\\n",
    ".filter(col(\"order_status\")==\"delivered\")\n",
    "total_revenue = joins.groupby(\"seller_id\").agg(sum(col(\"price\") + col(\"freight_value\")).alias(\"total_revenue\"))\n",
    "total_revenue.orderBy(col(\"total_revenue\").desc()).limit(10).show()"
   ]
  },
  {
   "cell_type": "markdown",
   "id": "40ec177c",
   "metadata": {},
   "source": [
    "#  city generates the most orders?"
   ]
  },
  {
   "cell_type": "code",
   "execution_count": 17,
   "id": "1fbdd2f0",
   "metadata": {},
   "outputs": [
    {
     "name": "stdout",
     "output_type": "stream",
     "text": [
      "+-------------+-----------+\n",
      "|customer_city|most_orders|\n",
      "+-------------+-----------+\n",
      "|    sao paulo|      15046|\n",
      "+-------------+-----------+\n",
      "\n"
     ]
    }
   ],
   "source": [
    "joins = orders.alias(\"o\").join(customers.alias(\"c\") , col(\"c.customer_id\") == col(\"o.customer_id\"), \"inner\")\n",
    "most_orders = joins.groupBy(\"customer_city\").agg(count(\"o.order_id\").alias(\"most_orders\"))\n",
    "most_orders.orderBy(col(\"most_orders\").desc()).limit(1).show()"
   ]
  },
  {
   "cell_type": "markdown",
   "id": "2f4d4389",
   "metadata": {},
   "source": [
    "# Which customers spent the most? (top 10 by total payment)"
   ]
  },
  {
   "cell_type": "code",
   "execution_count": 29,
   "id": "83a814e6",
   "metadata": {},
   "outputs": [
    {
     "name": "stdout",
     "output_type": "stream",
     "text": [
      "+--------------------+------------+\n",
      "|         customer_id|total_amount|\n",
      "+--------------------+------------+\n",
      "|1617b1357756262bf...|    13664.08|\n",
      "|ec5b2ba62e5743423...|     7274.88|\n",
      "|c6e2731c5b391845f...|     6929.31|\n",
      "|f48d464a0baaea338...|     6922.21|\n",
      "|3fd6777bbce08a352...|     6726.66|\n",
      "|05455dfa7cd02f13d...|     6081.54|\n",
      "|df55c14d1476a9a34...|     4950.34|\n",
      "|24bbf5fd2f2e1b359...|     4764.34|\n",
      "|3d979689f636322c6...|     4681.78|\n",
      "|1afc82cd60e303ef0...|     4513.32|\n",
      "+--------------------+------------+\n",
      "\n"
     ]
    }
   ],
   "source": [
    "joins = orders.alias(\"o\").join(customers.alias(\"c\") , col(\"c.customer_id\") == col(\"o.customer_id\"), \"inner\")\n",
    "tables_join = payments.alias(\"p\").join(joins , col(\"p.order_id\") == col(\"o.order_id\"))\n",
    "total_amount = tables_join.groupBy(\"o.customer_id\").agg(sum(\"payment_value\").alias(\"total_amount\"))\n",
    "total_amount.orderBy(col(\"total_amount\").desc()).limit(10).show()"
   ]
  },
  {
   "cell_type": "markdown",
   "id": "d303e1cd",
   "metadata": {},
   "source": [
    "# Which day of the week has the most orders?"
   ]
  },
  {
   "cell_type": "code",
   "execution_count": 33,
   "id": "a8b2b963",
   "metadata": {},
   "outputs": [
    {
     "name": "stdout",
     "output_type": "stream",
     "text": [
      "+-----------+------------+\n",
      "|day_of_week|total_orders|\n",
      "+-----------+------------+\n",
      "|     Monday|       15703|\n",
      "|    Tuesday|       15502|\n",
      "|  Wednesday|       15074|\n",
      "|   Thursday|       14322|\n",
      "|     Friday|       13684|\n",
      "|     Sunday|       11634|\n",
      "|   Saturday|       10556|\n",
      "+-----------+------------+\n",
      "\n"
     ]
    }
   ],
   "source": [
    "with_weeks = orders.withColumn(\"day_of_week\" , date_format(\"order_purchase_timestamp\", \"EEEE\"))\n",
    "total_orders = with_weeks.groupBy(\"day_of_week\").agg(count(\"order_id\").alias(\"total_orders\"))\n",
    "total_orders.orderBy(col(\"total_orders\").desc()).show()"
   ]
  },
  {
   "cell_type": "markdown",
   "id": "8019b010",
   "metadata": {},
   "source": [
    "# What are the most used payment methods?"
   ]
  },
  {
   "cell_type": "code",
   "execution_count": 12,
   "id": "b30fbaf5",
   "metadata": {},
   "outputs": [
    {
     "name": "stdout",
     "output_type": "stream",
     "text": [
      "+------------+-------------+\n",
      "|payment_type|payment_count|\n",
      "+------------+-------------+\n",
      "| credit_card|        76795|\n",
      "+------------+-------------+\n",
      "\n"
     ]
    }
   ],
   "source": [
    "payments_counts = payments.groupBy(\"payment_type\").agg(count(\"order_id\").alias(\"payment_count\"))\n",
    "payments_counts.orderBy(col(\"payment_count\").desc()).limit(1).show()"
   ]
  },
  {
   "cell_type": "markdown",
   "id": "e487601c",
   "metadata": {},
   "source": [
    "# How many repeat customers are there?"
   ]
  },
  {
   "cell_type": "code",
   "execution_count": 22,
   "id": "6a164281",
   "metadata": {},
   "outputs": [
    {
     "name": "stdout",
     "output_type": "stream",
     "text": [
      "+-----------+--------------+\n",
      "|customer_id|customer_count|\n",
      "+-----------+--------------+\n",
      "+-----------+--------------+\n",
      "\n"
     ]
    }
   ],
   "source": [
    "customer_count= orders.groupBy(\"customer_id\").agg(count(\"order_id\").alias(\"customer_count\"))\n",
    "customer_count.filter(col(\"customer_count\") > 1).show()"
   ]
  },
  {
   "cell_type": "markdown",
   "id": "821acb98",
   "metadata": {},
   "source": [
    "# How many customers have never placed an order?\""
   ]
  },
  {
   "cell_type": "code",
   "execution_count": null,
   "id": "3764c0dc",
   "metadata": {},
   "outputs": [
    {
     "data": {
      "text/plain": [
       "2966"
      ]
     },
     "execution_count": 38,
     "metadata": {},
     "output_type": "execute_result"
    }
   ],
   "source": [
    "inactive_customers = customers.alias(\"c\").join(orders.alias(\"o\") , col(\"c.customer_id\") == col(\"o.customer_id\") , \"left_anti\")\n",
    "inactive_customers.count()"
   ]
  },
  {
   "cell_type": "markdown",
   "id": "5275190e",
   "metadata": {},
   "source": [
    "### second approach"
   ]
  },
  {
   "cell_type": "code",
   "execution_count": 44,
   "id": "ab1a64d9",
   "metadata": {},
   "outputs": [
    {
     "data": {
      "text/plain": [
       "2966"
      ]
     },
     "execution_count": 44,
     "metadata": {},
     "output_type": "execute_result"
    }
   ],
   "source": [
    "left_join = customers.alias(\"c\") \\\n",
    "    .join(orders.alias(\"o\"), col(\"c.customer_id\") == col(\"o.customer_id\"), \"left\")\n",
    "\n",
    "inactive_customers = left_join.filter(col(\"o.customer_id\").isNull())\n",
    "inactive_customers.count()"
   ]
  },
  {
   "cell_type": "markdown",
   "id": "33adda82",
   "metadata": {},
   "source": [
    "# Which customers have highest cumulative spend"
   ]
  },
  {
   "cell_type": "code",
   "execution_count": 56,
   "id": "7488a4b8",
   "metadata": {},
   "outputs": [
    {
     "name": "stdout",
     "output_type": "stream",
     "text": [
      "+--------------------+-------------+----+\n",
      "|         customer_id|total_payment|rank|\n",
      "+--------------------+-------------+----+\n",
      "|1617b1357756262bf...|     13664.08|   1|\n",
      "|ec5b2ba62e5743423...|      7274.88|   2|\n",
      "|c6e2731c5b391845f...|      6929.31|   3|\n",
      "|f48d464a0baaea338...|      6922.21|   4|\n",
      "|3fd6777bbce08a352...|      6726.66|   5|\n",
      "|05455dfa7cd02f13d...|      6081.54|   6|\n",
      "|df55c14d1476a9a34...|      4950.34|   7|\n",
      "|24bbf5fd2f2e1b359...|      4764.34|   8|\n",
      "|3d979689f636322c6...|      4681.78|   9|\n",
      "|1afc82cd60e303ef0...|      4513.32|  10|\n",
      "|cc803a2c412833101...|       4445.5|  11|\n",
      "|926b6a6fb8b6081e0...|      4194.76|  12|\n",
      "|35a413c7ca3c69756...|      4175.26|  13|\n",
      "|e9b0d0eb3015ef1c9...|      4163.51|  14|\n",
      "|3be2c536886b2ea46...|      4042.74|  15|\n",
      "|eb7a157e8da9c488c...|      4034.44|  16|\n",
      "|c6695e3b1e48680db...|      4016.91|  17|\n",
      "|31e83c01fce824d0f...|      3979.55|  18|\n",
      "|addc91fdf9c2b3045...|       3826.8|  19|\n",
      "|19b32919fa1198aef...|      3792.59|  20|\n",
      "+--------------------+-------------+----+\n",
      "only showing top 20 rows\n",
      "\n"
     ]
    }
   ],
   "source": [
    "join_df = customers.alias(\"c\").join(orders.alias(\"o\") , col(\"c.customer_id\") == col(\"o.customer_id\") , \"inner\")\n",
    "joins = join_df.join(payments.alias(\"p\") , col(\"p.order_id\") == col(\"o.order_id\") , \"inner\")\n",
    "delivered = joins.filter(col(\"order_status\") == \"delivered\")\n",
    "customer_spend = delivered.groupBy(\"o.customer_id\").agg(sum(\"p.payment_value\").alias(\"total_payment\"))\n",
    "order_of_pay = Window.orderBy(col(\"total_payment\").desc())\n",
    "ranked_custmer = customer_spend.withColumn(\"rank\", rank().over(order_of_pay)).show()\n"
   ]
  },
  {
   "cell_type": "markdown",
   "id": "dd99af6d",
   "metadata": {},
   "source": [
    "# state has highest revenue?"
   ]
  },
  {
   "cell_type": "code",
   "execution_count": 62,
   "id": "e753bf0e",
   "metadata": {},
   "outputs": [
    {
     "name": "stdout",
     "output_type": "stream",
     "text": [
      "+--------------+------------------+\n",
      "|customer_state|     total_payment|\n",
      "+--------------+------------------+\n",
      "|            SP| 5769027.510000011|\n",
      "|            RJ|2056101.2100000018|\n",
      "|            MG|1819321.7000000007|\n",
      "|            RS| 861608.3999999998|\n",
      "|            PR| 781919.5499999995|\n",
      "|            SC| 595361.9099999997|\n",
      "|            BA| 591270.5999999999|\n",
      "|            DF| 346146.1699999999|\n",
      "|            GO|334294.21999999986|\n",
      "|            ES|317682.64999999985|\n",
      "+--------------+------------------+\n",
      "\n"
     ]
    }
   ],
   "source": [
    "joins = orders.alias(\"o\").join(customers.alias(\"c\") , col(\"c.customer_id\") == col(\"o.customer_id\"), \"inner\")\n",
    "tables_join = payments.alias(\"p\").join(joins , col(\"p.order_id\") == col(\"o.order_id\"))\n",
    "total_pay = tables_join.groupBy(\"c.customer_state\").agg(sum(\"p.payment_value\").alias(\"total_payment\"))\n",
    "total_pay.orderBy(col(\"total_payment\").desc()).limit(10).show()"
   ]
  },
  {
   "cell_type": "markdown",
   "id": "b315ea8e",
   "metadata": {},
   "source": [
    "# Which month had the highest number of orders?"
   ]
  },
  {
   "cell_type": "code",
   "execution_count": 67,
   "id": "a0459b20",
   "metadata": {},
   "outputs": [
    {
     "name": "stdout",
     "output_type": "stream",
     "text": [
      "+----------+-----------+\n",
      "|month_name|order_count|\n",
      "+----------+-----------+\n",
      "|    August|      10544|\n",
      "|       May|      10294|\n",
      "|      July|      10028|\n",
      "|     March|       9549|\n",
      "|      June|       9231|\n",
      "|     April|       9101|\n",
      "|  February|       8209|\n",
      "|   January|       7819|\n",
      "|  November|       7288|\n",
      "|  December|       5514|\n",
      "|   October|       4748|\n",
      "| September|       4150|\n",
      "+----------+-----------+\n",
      "\n"
     ]
    }
   ],
   "source": [
    "month_formet= orders.withColumn(\"month_name\", date_format(col(\"order_purchase_timestamp\"), \"MMMM\"))\n",
    "order_count = month_formet.groupBy(\"month_name\").agg(count(\"order_id\").alias(\"order_count\"))\n",
    "order_count.orderBy(col(\"order_count\").desc()).show()"
   ]
  },
  {
   "cell_type": "markdown",
   "id": "1136431f",
   "metadata": {},
   "source": [
    "# What is the average delivery delay across all orders"
   ]
  },
  {
   "cell_type": "code",
   "execution_count": 9,
   "id": "3a560450",
   "metadata": {},
   "outputs": [
    {
     "name": "stdout",
     "output_type": "stream",
     "text": [
      "+-------------------+\n",
      "|    order_delay_avg|\n",
      "+-------------------+\n",
      "|-11.877066597564136|\n",
      "+-------------------+\n",
      "\n"
     ]
    }
   ],
   "source": [
    "order_delay = orders.withColumn(\"diffrence_date\" , datediff(col(\"order_delivered_customer_date\"),col(\"order_estimated_delivery_date\")))\n",
    "order_delay.agg(avg(\"diffrence_date\").alias(\"order_delay_avg\")).show()"
   ]
  },
  {
   "cell_type": "markdown",
   "id": "6fdd2cb0",
   "metadata": {},
   "source": [
    "# Which sellers deliver fastest on average?"
   ]
  },
  {
   "cell_type": "code",
   "execution_count": 21,
   "id": "0a996dec",
   "metadata": {},
   "outputs": [
    {
     "name": "stdout",
     "output_type": "stream",
     "text": [
      "+--------------------+-----------+\n",
      "|           seller_id|avrage_time|\n",
      "+--------------------+-----------+\n",
      "|99a25c39b28a74d11...|        1.0|\n",
      "|702835e4b785b67a0...|        1.0|\n",
      "|b76f4d90e85657a24...|        1.0|\n",
      "|52b53f7061969fe47...|        1.0|\n",
      "|5e063e85d44b0f5c3...|        1.0|\n",
      "|6561d6bf844e464b4...|        1.0|\n",
      "|e00d85ce20ea50c12...|        1.0|\n",
      "|139157dd4daa45c25...|        1.0|\n",
      "|544863df86ed3b78a...|        2.0|\n",
      "|eae9af4811c294c56...|        2.0|\n",
      "|2bdb95a56a36ebbc6...|        2.0|\n",
      "|cad10cc982ab6a391...|        2.0|\n",
      "|7d81e74a4755b5522...|        2.0|\n",
      "|37303482a42fb700d...|        2.0|\n",
      "|c0e6839516f5398ed...|        2.0|\n",
      "|c1dde11f12d05c478...|        2.0|\n",
      "|7caa63f175b1cecbf...|        2.0|\n",
      "|26562f211dd1364af...|        2.0|\n",
      "|d297f1055de2956ae...|        2.0|\n",
      "|aa2640d851ec32252...|        2.0|\n",
      "+--------------------+-----------+\n",
      "only showing top 20 rows\n",
      "\n"
     ]
    }
   ],
   "source": [
    "order_delay = orders.withColumn(\"diffrence_date\" , datediff(col(\"order_delivered_customer_date\"),col(\"order_approved_at\")))\n",
    "filters = order_delay.filter(col(\"order_status\")==\"delivered\")\n",
    "joins = filters.alias(\"o\").join(order_items.alias(\"oi\") , col(\"oi.order_id\") == col(\"o.order_id\") , \"inner\")\n",
    "average_time = joins.groupBy(\"oi.seller_id\").agg(avg(\"diffrence_date\").alias(\"avrage_time\"))\n",
    "final = average_time.orderBy(col(\"avrage_time\").asc()).show()"
   ]
  },
  {
   "cell_type": "markdown",
   "id": "a4aaa177",
   "metadata": {},
   "source": [
    "# What is the return/cancel rate"
   ]
  },
  {
   "cell_type": "code",
   "execution_count": 41,
   "id": "7ac7f088",
   "metadata": {},
   "outputs": [
    {
     "name": "stdout",
     "output_type": "stream",
     "text": [
      "cancel_rate : 0.0062192277792174145%\n"
     ]
    }
   ],
   "source": [
    "total_orders = orders.select(\"order_id\").distinct().count()\n",
    "cancel_order = orders.filter(col(\"order_status\") == \"canceled\").count()\n",
    "cancel_rate = (cancel_order / total_orders)*100\n",
    "print(f\"cancel_rate : {cancel_rate}%\")\n",
    "\n"
   ]
  },
  {
   "cell_type": "markdown",
   "id": "b0807228",
   "metadata": {},
   "source": [
    "# How many orders were cancelled or not delivered?"
   ]
  },
  {
   "cell_type": "code",
   "execution_count": 45,
   "id": "2ca54549",
   "metadata": {},
   "outputs": [
    {
     "data": {
      "text/plain": [
       "6"
      ]
     },
     "execution_count": 45,
     "metadata": {},
     "output_type": "execute_result"
    }
   ],
   "source": [
    "not_delevered = orders.filter((col(\"order_status\")==\"canceled\") | (col(\"order_status\") != \"delivered\"))\n",
    "not_delevered.select(\"order_id\").distinct().count()"
   ]
  },
  {
   "cell_type": "markdown",
   "id": "b0965560",
   "metadata": {},
   "source": [
    "# What is the running total of customer spend over time?"
   ]
  },
  {
   "cell_type": "code",
   "execution_count": null,
   "id": "be4d90d6",
   "metadata": {},
   "outputs": [],
   "source": []
  },
  {
   "cell_type": "code",
   "execution_count": 36,
   "id": "0dc06ea6",
   "metadata": {},
   "outputs": [
    {
     "name": "stdout",
     "output_type": "stream",
     "text": [
      "+--------------------+--------------------+------+\n",
      "|           seller_id|            order_id| price|\n",
      "+--------------------+--------------------+------+\n",
      "|0015a82c2db000af6...|9dc8d1a6f16f1b898...| 895.0|\n",
      "|001cca7ae9ae17fb1...|14bba6d3df6ead296...| 199.0|\n",
      "|001e6ad469a905060...|8501926dd0837d694...| 250.0|\n",
      "|002100f778ceb8431...|d75463c2698dfcc15...| 129.9|\n",
      "|003554e2dce176b55...|7e4f454abfc163899...| 120.0|\n",
      "|004c9cd9d87a3c30c...|070d0ddec60c0e00d...|259.99|\n",
      "|00720abe85ba08598...|bdda3ba1c505bc39f...| 132.0|\n",
      "|00ab3eff1b5192e5f...|deef94d95b5cf9c23...|  98.0|\n",
      "|00d8b143d12632bad...|1e13bca551a3fd095...|  86.0|\n",
      "|00ee68308b45bc5e2...|6d9f1e084075088c7...| 450.0|\n",
      "+--------------------+--------------------+------+\n",
      "only showing top 10 rows\n",
      "\n"
     ]
    }
   ],
   "source": [
    "from pyspark.sql.functions import row_number\n",
    "\n",
    "window = Window.partitionBy(\"seller_id\").orderBy(col(\"price\").desc())\n",
    "\n",
    "order_items.withColumn(\"rank\", row_number().over(window)) \\\n",
    "           .filter(col(\"rank\") == 1) \\\n",
    "           .select(\"seller_id\", \"order_id\", \"price\").show(10)\n"
   ]
  },
  {
   "cell_type": "code",
   "execution_count": 18,
   "id": "16a63a60",
   "metadata": {},
   "outputs": [
    {
     "name": "stdout",
     "output_type": "stream",
     "text": [
      "+--------------------+------------------------+-------------+----------+\n",
      "|         customer_id|order_purchase_timestamp|payment_value|sum_of_pay|\n",
      "+--------------------+------------------------+-------------+----------+\n",
      "|1617b1357756262bf...|     2017-09-29 15:24:52|     13664.08|  13664.08|\n",
      "|ec5b2ba62e5743423...|     2018-07-15 14:49:44|      7274.88|   7274.88|\n",
      "|c6e2731c5b391845f...|     2017-02-12 20:37:36|      6929.31|   6929.31|\n",
      "|f48d464a0baaea338...|     2018-07-25 18:10:17|      6922.21|   6922.21|\n",
      "|3fd6777bbce08a352...|     2017-05-24 18:14:34|      6726.66|   6726.66|\n",
      "|05455dfa7cd02f13d...|     2017-11-24 11:03:35|      6081.54|   6081.54|\n",
      "|df55c14d1476a9a34...|     2017-04-01 15:58:40|      4950.34|   4950.34|\n",
      "|24bbf5fd2f2e1b359...|     2017-04-18 18:50:13|      4764.34|   4764.34|\n",
      "|3d979689f636322c6...|     2018-06-22 12:23:19|      4681.78|   4681.78|\n",
      "|1afc82cd60e303ef0...|     2018-08-03 21:10:16|      4513.32|   4513.32|\n",
      "|cc803a2c412833101...|     2018-05-31 22:57:07|       4445.5|    4445.5|\n",
      "|926b6a6fb8b6081e0...|     2017-04-18 20:37:26|      3360.66|   4194.76|\n",
      "|35a413c7ca3c69756...|     2018-03-29 10:31:29|      4175.26|   4175.26|\n",
      "|e9b0d0eb3015ef1c9...|     2018-07-29 08:39:48|      4163.51|   4163.51|\n",
      "|3be2c536886b2ea46...|     2017-02-04 18:54:15|      4042.74|   4042.74|\n",
      "|eb7a157e8da9c488c...|     2018-06-05 12:45:17|       3899.0|   4034.44|\n",
      "|c6695e3b1e48680db...|     2017-03-18 20:08:04|      4016.91|   4016.91|\n",
      "|31e83c01fce824d0f...|     2018-05-14 15:15:30|      3979.55|   3979.55|\n",
      "|addc91fdf9c2b3045...|     2018-01-26 14:30:21|       3826.8|    3826.8|\n",
      "|19b32919fa1198aef...|     2018-03-21 15:06:34|      3792.59|   3792.59|\n",
      "+--------------------+------------------------+-------------+----------+\n",
      "only showing top 20 rows\n",
      "\n"
     ]
    }
   ],
   "source": [
    "\n",
    "joins = orders.alias(\"o\").join(payments.alias(\"p\"), col(\"p.order_id\") == col(\"o.order_id\"))\n",
    "winspace = Window.partitionBy(\"customer_id\").orderBy(\"order_purchase_timestamp\").rowsBetween(Window.unboundedPreceding , Window.currentRow)\n",
    "sum_of_pay = joins.withColumn(\"sum_of_pay\" , sum(\"payment_value\").over(winspace))\n",
    "filters = sum_of_pay.select(\"customer_id\" , \"order_purchase_timestamp\",\"payment_value\",  \"sum_of_pay\")\n",
    "filters.orderBy(col(\"sum_of_pay\").desc()).show()"
   ]
  },
  {
   "cell_type": "markdown",
   "id": "1e0c80e3",
   "metadata": {},
   "source": [
    "# For each seller, what is their highest value order"
   ]
  },
  {
   "cell_type": "code",
   "execution_count": 47,
   "id": "f24f6b64",
   "metadata": {},
   "outputs": [
    {
     "name": "stdout",
     "output_type": "stream",
     "text": [
      "+--------------------+--------------------+------------------+------+\n",
      "|           seller_id|            order_id|      total_amount|row_no|\n",
      "+--------------------+--------------------+------------------+------+\n",
      "|0015a82c2db000af6...|7f39ba4c9052be115...|            916.02|     1|\n",
      "|001cca7ae9ae17fb1...|261f725152296e3e8...|            735.96|     1|\n",
      "|002100f778ceb8431...|d75463c2698dfcc15...|            145.56|     1|\n",
      "|003554e2dce176b55...|7e4f454abfc163899...|            139.38|     1|\n",
      "|004c9cd9d87a3c30c...|8ac2728285fd4228f...| 652.3399999999999|     1|\n",
      "|00720abe85ba08598...|d9a4f0796fafbfe36...|            186.62|     1|\n",
      "|00ab3eff1b5192e5f...|deef94d95b5cf9c23...|            110.08|     1|\n",
      "|00d8b143d12632bad...|1e13bca551a3fd095...|             137.1|     1|\n",
      "|00ee68308b45bc5e2...|142c07328adba2427...|            563.64|     1|\n",
      "|00fc707aaaad2d313...|1ae8a88bf94d02224...| 637.0899999999999|     1|\n",
      "|010543a62bd80aa42...|f7791fd674aa787f1...|            726.71|     1|\n",
      "|010da0602d7774602...|47d7bd38284cac71a...|           1079.75|     1|\n",
      "|011b0eaba87386a2a...|d0fc18b01244d3a08...|            129.16|     1|\n",
      "|01266d4c46afa5196...|ed76528f7ed5ae1f2...|             75.47|     1|\n",
      "|013900e863eace745...|dcbca116084725bc7...|209.45999999999998|     1|\n",
      "|014c0679dd340a0e3...|30da20eacd71a5e8c...|           1369.63|     1|\n",
      "|014d9a685fd572766...|ae2534a5b52aefc2a...|            117.46|     1|\n",
      "|0176f73cc1195f367...|b7150d703d0836a5c...|319.96000000000004|     1|\n",
      "|01bcc9d254a0143f0...|a59a15e4b6085c752...|            195.13|     1|\n",
      "|01c97ebb5cdac5289...|1d01166814be7e95f...|            262.66|     1|\n",
      "+--------------------+--------------------+------------------+------+\n",
      "only showing top 20 rows\n",
      "\n"
     ]
    }
   ],
   "source": [
    "joins = order_items.alias(\"oi\").join(orders.alias(\"o\"), col(\"o.order_id\") == col(\"oi.order_id\"))\n",
    "price = joins.withColumn(\"order_price\" , col(\"price\") + col(\"freight_value\"))\n",
    "total = price.groupBy(\"oi.seller_id\" ,\"oi.order_id\").agg(sum(\"order_price\").alias(\"total_amount\"))\n",
    "winspace = Window.partitionBy(\"seller_id\").orderBy(col(\"total_amount\").desc())\n",
    "row_no = total.withColumn(\"row_no\" , row_number().over(winspace))\n",
    "top_orders = row_no.filter(col(\"row_no\") == 1).show()\n"
   ]
  },
  {
   "cell_type": "markdown",
   "id": "4da6c5c4",
   "metadata": {},
   "source": [
    "# Rank products based on total revenue"
   ]
  },
  {
   "cell_type": "code",
   "execution_count": 20,
   "id": "74e03ac1",
   "metadata": {},
   "outputs": [
    {
     "name": "stdout",
     "output_type": "stream",
     "text": [
      "+--------------------+-------------------+----+\n",
      "|          product_id|total_product_price|rank|\n",
      "+--------------------+-------------------+----+\n",
      "|bb50f2e236e5eea01...|  67606.09999999999|   1|\n",
      "|d1c427060a0f73f6b...|  60976.03000000001|   2|\n",
      "|6cdd53843498f9289...|  59093.98999999999|   3|\n",
      "|99a4788cb24856965...| 51071.600000000006|   4|\n",
      "|d6160fb7873f18409...|  50326.18000000001|   5|\n",
      "|3dd2a17168ec895c7...|           48212.22|   6|\n",
      "|aca2eb7d00ea1a7b8...| 44820.759999999995|   7|\n",
      "|5f504b3a1c75b73d6...| 41725.810000000005|   8|\n",
      "|25c38557cf793876c...| 40311.950000000004|   9|\n",
      "|53b36df67ebb7c415...|  39957.92999999999|  10|\n",
      "|e0d64dcfaa3b6db5c...|           35344.09|  11|\n",
      "|422879e10f4668299...|           34201.26|  12|\n",
      "|d285360f29ac7fd97...|           33607.57|  13|\n",
      "|f1c7f353075ce59d8...| 33316.759999999995|  14|\n",
      "|7a10781637204d8d1...|           32790.74|  15|\n",
      "|f819f0c84a64f02d3...| 30449.690000000006|  16|\n",
      "|588531f8ec37e7d5f...|           29080.21|  17|\n",
      "|389d119b48cf3043d...| 28682.680000000008|  18|\n",
      "|a62e25e09e05e6faf...| 27998.299999999996|  19|\n",
      "|368c6c730842d7801...|            27984.4|  20|\n",
      "+--------------------+-------------------+----+\n",
      "only showing top 20 rows\n",
      "\n"
     ]
    }
   ],
   "source": [
    "joins = order_items.alias(\"oi\").join(products.alias(\"p\") , col(\"oi.product_id\") == col(\"p.product_id\") , \"inner\")\n",
    "order_values = joins.withColumn(\"order_value\" , col(\"price\") + col(\"freight_value\"))\n",
    "total_value = order_values.groupBy(\"p.product_id\").agg(sum(\"order_value\").alias(\"total_product_price\"))\n",
    "winspace = Window.orderBy(col(\"total_product_price\").desc())\n",
    "ranks = total_value.withColumn(\"rank\" ,dense_rank().over(winspace)).show()\n"
   ]
  },
  {
   "cell_type": "markdown",
   "id": "2b30d092",
   "metadata": {},
   "source": [
    "# Cumulative revenue by seller across time?"
   ]
  },
  {
   "cell_type": "code",
   "execution_count": 33,
   "id": "e13c8e56",
   "metadata": {},
   "outputs": [
    {
     "name": "stdout",
     "output_type": "stream",
     "text": [
      "+--------------------+--------------------+------------------------+-------------+------------------+\n",
      "|           seller_id|            order_id|order_purchase_timestamp|payment_value|cumulative_revenue|\n",
      "+--------------------+--------------------+------------------------+-------------+------------------+\n",
      "|0015a82c2db000af6...|d455a8cb295653b55...|     2017-09-26 22:17:05|       916.02|            916.02|\n",
      "|0015a82c2db000af6...|9dc8d1a6f16f1b898...|     2017-10-12 13:33:22|       916.02|           1832.04|\n",
      "|0015a82c2db000af6...|7f39ba4c9052be115...|     2017-10-18 08:16:34|       916.02|           2748.06|\n",
      "|001cca7ae9ae17fb1...|3c655487f0c8e34cd...|     2017-02-04 19:06:04|       121.05|            121.05|\n",
      "|001cca7ae9ae17fb1...|eb188a175542057d9...|     2017-02-18 23:26:24|       573.85|             694.9|\n",
      "|001cca7ae9ae17fb1...|eb188a175542057d9...|     2017-02-18 23:26:24|       573.85|           1268.75|\n",
      "|001cca7ae9ae17fb1...|eb188a175542057d9...|     2017-02-18 23:26:24|       573.85|            1842.6|\n",
      "|001cca7ae9ae17fb1...|eb188a175542057d9...|     2017-02-18 23:26:24|       573.85|           2416.45|\n",
      "|001cca7ae9ae17fb1...|eb188a175542057d9...|     2017-02-18 23:26:24|       573.85|2990.2999999999997|\n",
      "|001cca7ae9ae17fb1...|67054420c38f2db9d...|     2017-02-23 11:42:38|        116.3|            3106.6|\n",
      "|001cca7ae9ae17fb1...|ca1c186adb5522172...|     2017-02-27 16:23:21|        242.1|            3348.7|\n",
      "|001cca7ae9ae17fb1...|ca1c186adb5522172...|     2017-02-27 16:23:21|        242.1|3590.7999999999997|\n",
      "|001cca7ae9ae17fb1...|60d86bf6b567364b5...|     2017-02-27 23:54:11|        242.1|3832.8999999999996|\n",
      "|001cca7ae9ae17fb1...|60d86bf6b567364b5...|     2017-02-27 23:54:11|        242.1|4074.9999999999995|\n",
      "|001cca7ae9ae17fb1...|ae97799b02696e793...|     2017-03-02 16:12:33|        242.1| 4317.099999999999|\n",
      "|001cca7ae9ae17fb1...|ae97799b02696e793...|     2017-03-02 16:12:33|        242.1|            4559.2|\n",
      "|001cca7ae9ae17fb1...|8a6927284335d25c4...|     2017-03-03 15:44:38|       114.77|           4673.97|\n",
      "|001cca7ae9ae17fb1...|81bee7ecbeae8e9b4...|     2017-03-15 22:26:48|       202.26|4876.2300000000005|\n",
      "|001cca7ae9ae17fb1...|81bee7ecbeae8e9b4...|     2017-03-15 22:26:48|       202.26| 5078.490000000001|\n",
      "|001cca7ae9ae17fb1...|42aaabf39b810fa0a...|     2017-03-17 14:22:50|        310.1| 5388.590000000001|\n",
      "+--------------------+--------------------+------------------------+-------------+------------------+\n",
      "only showing top 20 rows\n",
      "\n"
     ]
    }
   ],
   "source": [
    "order_join = orders.alias(\"o\").join(order_items.alias(\"oi\") , col(\"o.order_id\") == col(\"oi.order_id\") , \"inner\")\n",
    "payment_join = order_join.join(payments.alias(\"p\") , col(\"p.order_id\") == col(\"oi.order_id\"))\n",
    "winspace = Window.partitionBy(\"oi.seller_id\").orderBy(\"o.order_purchase_timestamp\").rowsBetween(Window.unboundedPreceding , Window.currentRow)\n",
    "cumulative_revenue= payment_join.withColumn(\"cumulative_revenue\" , sum(\"payment_value\").over(winspace))\n",
    "cumulative_revenue.select(\n",
    "    \"oi.seller_id\", \"o.order_id\", \"o.order_purchase_timestamp\", \"p.payment_value\", \"cumulative_revenue\"\n",
    ").orderBy(\"oi.seller_id\", \"o.order_purchase_timestamp\").show()\n"
   ]
  },
  {
   "cell_type": "code",
   "execution_count": 31,
   "id": "b4389daa",
   "metadata": {},
   "outputs": [
    {
     "name": "stdout",
     "output_type": "stream",
     "text": [
      "+--------------------+--------------------+------------------------+-------------+------------------+\n",
      "|           seller_id|            order_id|order_purchase_timestamp|payment_value|cumulative_revenue|\n",
      "+--------------------+--------------------+------------------------+-------------+------------------+\n",
      "|0015a82c2db000af6...|d455a8cb295653b55...|     2017-09-26 22:17:05|       916.02|            916.02|\n",
      "|0015a82c2db000af6...|9dc8d1a6f16f1b898...|     2017-10-12 13:33:22|       916.02|           1832.04|\n",
      "|0015a82c2db000af6...|7f39ba4c9052be115...|     2017-10-18 08:16:34|       916.02|           2748.06|\n",
      "|001cca7ae9ae17fb1...|3c655487f0c8e34cd...|     2017-02-04 19:06:04|       121.05|            121.05|\n",
      "|001cca7ae9ae17fb1...|eb188a175542057d9...|     2017-02-18 23:26:24|       573.85|             694.9|\n",
      "|001cca7ae9ae17fb1...|eb188a175542057d9...|     2017-02-18 23:26:24|       573.85|           1268.75|\n",
      "|001cca7ae9ae17fb1...|eb188a175542057d9...|     2017-02-18 23:26:24|       573.85|            1842.6|\n",
      "|001cca7ae9ae17fb1...|eb188a175542057d9...|     2017-02-18 23:26:24|       573.85|           2416.45|\n",
      "|001cca7ae9ae17fb1...|eb188a175542057d9...|     2017-02-18 23:26:24|       573.85|2990.2999999999997|\n",
      "|001cca7ae9ae17fb1...|67054420c38f2db9d...|     2017-02-23 11:42:38|        116.3|            3106.6|\n",
      "|001cca7ae9ae17fb1...|ca1c186adb5522172...|     2017-02-27 16:23:21|        242.1|            3348.7|\n",
      "|001cca7ae9ae17fb1...|ca1c186adb5522172...|     2017-02-27 16:23:21|        242.1|3590.7999999999997|\n",
      "|001cca7ae9ae17fb1...|60d86bf6b567364b5...|     2017-02-27 23:54:11|        242.1|3832.8999999999996|\n",
      "|001cca7ae9ae17fb1...|60d86bf6b567364b5...|     2017-02-27 23:54:11|        242.1|4074.9999999999995|\n",
      "|001cca7ae9ae17fb1...|ae97799b02696e793...|     2017-03-02 16:12:33|        242.1| 4317.099999999999|\n",
      "|001cca7ae9ae17fb1...|ae97799b02696e793...|     2017-03-02 16:12:33|        242.1|            4559.2|\n",
      "|001cca7ae9ae17fb1...|8a6927284335d25c4...|     2017-03-03 15:44:38|       114.77|           4673.97|\n",
      "|001cca7ae9ae17fb1...|81bee7ecbeae8e9b4...|     2017-03-15 22:26:48|       202.26|4876.2300000000005|\n",
      "|001cca7ae9ae17fb1...|81bee7ecbeae8e9b4...|     2017-03-15 22:26:48|       202.26| 5078.490000000001|\n",
      "|001cca7ae9ae17fb1...|42aaabf39b810fa0a...|     2017-03-17 14:22:50|        310.1| 5388.590000000001|\n",
      "+--------------------+--------------------+------------------------+-------------+------------------+\n",
      "only showing top 20 rows\n",
      "\n"
     ]
    }
   ],
   "source": [
    "from pyspark.sql.window import Window\n",
    "from pyspark.sql.functions import sum, col\n",
    "\n",
    "# 1. Join orders + order_items + payments\n",
    "order_join = orders.alias(\"o\").join(order_items.alias(\"oi\"), col(\"o.order_id\") == col(\"oi.order_id\"), \"inner\")\n",
    "payment_join = order_join.join(payments.alias(\"p\"), col(\"p.order_id\") == col(\"oi.order_id\"), \"inner\")\n",
    "\n",
    "# 2. Create window: seller-wise, ordered by time\n",
    "winspace = Window.partitionBy(\"oi.seller_id\").orderBy(\"o.order_purchase_timestamp\")\\\n",
    "    .rowsBetween(Window.unboundedPreceding, Window.currentRow)\n",
    "\n",
    "# 3. Cumulative sum\n",
    "cumulative_revenue = payment_join.withColumn(\"cumulative_revenue\", sum(\"p.payment_value\").over(winspace))\n",
    "\n",
    "# 4. Select useful columns\n",
    "cumulative_revenue.select(\n",
    "    \"oi.seller_id\", \"o.order_id\", \"o.order_purchase_timestamp\", \"p.payment_value\", \"cumulative_revenue\"\n",
    ").orderBy(\"oi.seller_id\", \"o.order_purchase_timestamp\").show()\n"
   ]
  }
 ],
 "metadata": {
  "kernelspec": {
   "display_name": "Python 3.10 (Spark)",
   "language": "python",
   "name": "python310spark"
  },
  "language_info": {
   "codemirror_mode": {
    "name": "ipython",
    "version": 3
   },
   "file_extension": ".py",
   "mimetype": "text/x-python",
   "name": "python",
   "nbconvert_exporter": "python",
   "pygments_lexer": "ipython3",
   "version": "3.10.11"
  }
 },
 "nbformat": 4,
 "nbformat_minor": 5
}
