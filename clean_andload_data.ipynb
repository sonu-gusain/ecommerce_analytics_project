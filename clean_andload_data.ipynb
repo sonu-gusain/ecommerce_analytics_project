{
 "cells": [
  {
   "cell_type": "code",
   "execution_count": 1,
   "id": "d77e50f0",
   "metadata": {},
   "outputs": [],
   "source": [
    "from pyspark.sql.functions import * \n",
    "from pyspark.sql.types import *"
   ]
  },
  {
   "cell_type": "code",
   "execution_count": 2,
   "id": "c69c5836",
   "metadata": {},
   "outputs": [],
   "source": [
    "from pyspark.sql import SparkSession\n",
    "spark = SparkSession.builder.appName(\"customer_csv_table\").getOrCreate()"
   ]
  },
  {
   "cell_type": "markdown",
   "id": "0c72724a",
   "metadata": {},
   "source": [
    "# clean and load tables"
   ]
  },
  {
   "cell_type": "code",
   "execution_count": 8,
   "id": "89fc5f80",
   "metadata": {},
   "outputs": [],
   "source": [
    "customer = spark.read.csv(\"C:/e_commerce_dataset/archive (1)/customers.csv\", header=True , inferSchema=True)\n",
    "\n",
    "customers= customer.dropDuplicates().dropna(subset= [\"customer_id\",\"customer_unique_id\"])\n",
    "customers.write.mode(\"overwrite\").parquet(\"C:/sonu gusain/ecommerce_project/cleaned_data/customer_cleaned\")"
   ]
  },
  {
   "cell_type": "code",
   "execution_count": 9,
   "id": "ac03a1a6",
   "metadata": {},
   "outputs": [],
   "source": [
    "location = spark.read.csv(\"C:/e_commerce_dataset/archive (1)/geolocation.csv\", header=True , inferSchema=True)\n",
    "\n",
    "locations= location.dropDuplicates().dropna(subset= [\"geolocation_lat\",\"geolocation_lng\"])\n",
    "locations.write.mode(\"overwrite\").parquet(\"C:/sonu gusain/ecommerce_project/cleaned_data/location_cleaned\")"
   ]
  },
  {
   "cell_type": "code",
   "execution_count": 10,
   "id": "95fba566",
   "metadata": {},
   "outputs": [],
   "source": [
    "order_item = spark.read.csv(\"C:/e_commerce_dataset/archive (1)/order_items.csv\", header=True , inferSchema=True)\n",
    "\n",
    "order_items= order_item.dropDuplicates().dropna(subset= [\"order_id\",\"order_item_id\" ,\"product_id\", \"seller_id\"])\n",
    "order_items.write.mode(\"overwrite\").parquet(\"C:/sonu gusain/ecommerce_project/cleaned_data/order_items_cleaned\")"
   ]
  },
  {
   "cell_type": "code",
   "execution_count": 3,
   "id": "28ef61e3",
   "metadata": {},
   "outputs": [
    {
     "name": "stdout",
     "output_type": "stream",
     "text": [
      "+--------------------+--------------------+------------+------------------------+-------------------+----------------------------+-----------------------------+-----------------------------+\n",
      "|            order_id|         customer_id|order_status|order_purchase_timestamp|  order_approved_at|order_delivered_carrier_date|order_delivered_customer_date|order_estimated_delivery_date|\n",
      "+--------------------+--------------------+------------+------------------------+-------------------+----------------------------+-----------------------------+-----------------------------+\n",
      "|e481f51cbdc54678b...|9ef432eb625129730...|   delivered|     2017-10-02 10:56:33|2017-10-02 11:07:15|         2017-10-04 19:55:00|          2017-10-10 21:25:13|          2017-10-18 00:00:00|\n",
      "|53cdb2fc8bc7dce0b...|b0830fb4747a6c6d2...|   delivered|     2018-07-24 20:41:37|2018-07-26 03:24:27|         2018-07-26 14:31:00|          2018-08-07 15:27:45|          2018-08-13 00:00:00|\n",
      "|47770eb9100c2d0c4...|41ce2a54c0b03bf34...|   delivered|     2018-08-08 08:38:49|2018-08-08 08:55:23|         2018-08-08 13:50:00|          2018-08-17 18:06:29|          2018-09-04 00:00:00|\n",
      "|949d5b44dbf5de918...|f88197465ea7920ad...|   delivered|     2017-11-18 19:28:06|2017-11-18 19:45:59|         2017-11-22 13:39:59|          2017-12-02 00:28:42|          2017-12-15 00:00:00|\n",
      "|ad21c59c0840e6cb8...|8ab97904e6daea886...|   delivered|     2018-02-13 21:18:39|2018-02-13 22:20:29|         2018-02-14 19:46:34|          2018-02-16 18:17:02|          2018-02-26 00:00:00|\n",
      "|a4591c265e18cb1dc...|503740e9ca751ccdd...|   delivered|     2017-07-09 21:57:05|2017-07-09 22:10:13|         2017-07-11 14:58:04|          2017-07-26 10:57:55|          2017-08-01 00:00:00|\n",
      "|136cce7faa42fdb2c...|ed0271e0b7da060a3...|    invoiced|     2017-04-11 12:22:08|2017-04-13 13:25:17|                        NULL|                         NULL|          2017-05-09 00:00:00|\n",
      "|6514b8ad8028c9f2c...|9bdf08b4b3b52b552...|   delivered|     2017-05-16 13:10:30|2017-05-16 13:22:11|         2017-05-22 10:07:46|          2017-05-26 12:55:51|          2017-06-07 00:00:00|\n",
      "|76c6e866289321a7c...|f54a9f0e6b351c431...|   delivered|     2017-01-23 18:29:09|2017-01-25 02:50:47|         2017-01-26 14:16:31|          2017-02-02 14:08:10|          2017-03-06 00:00:00|\n",
      "|e69bfb5eb88e0ed6a...|31ad1d1b63eb99624...|   delivered|     2017-07-29 11:55:02|2017-07-29 12:05:32|         2017-08-10 19:45:24|          2017-08-16 17:14:30|          2017-08-23 00:00:00|\n",
      "|e6ce16cb79ec1d90b...|494dded5b201313c6...|   delivered|     2017-05-16 19:41:10|2017-05-16 19:50:18|         2017-05-18 11:40:40|          2017-05-29 11:18:31|          2017-06-07 00:00:00|\n",
      "|34513ce0c4fab462a...|7711cf624183d843a...|   delivered|     2017-07-13 19:58:11|2017-07-13 20:10:08|         2017-07-14 18:43:29|          2017-07-19 14:04:48|          2017-08-08 00:00:00|\n",
      "|82566a660a982b15f...|d3e3b74c766bc6214...|   delivered|     2018-06-07 10:06:19|2018-06-09 03:13:12|         2018-06-11 13:29:00|          2018-06-19 12:05:52|          2018-07-18 00:00:00|\n",
      "|5ff96c15d0b717ac6...|19402a48fe860416a...|   delivered|     2018-07-25 17:44:10|2018-07-25 17:55:14|         2018-07-26 13:16:00|          2018-07-30 15:52:25|          2018-08-08 00:00:00|\n",
      "|432aaf21d85167c2c...|3df704f53d3f1d481...|   delivered|     2018-03-01 14:14:28|2018-03-01 15:10:47|         2018-03-02 21:09:20|          2018-03-12 23:36:26|          2018-03-21 00:00:00|\n",
      "|dcb36b511fcac050b...|3b6828a50ffe54694...|   delivered|     2018-06-07 19:03:12|2018-06-12 23:31:02|         2018-06-11 14:54:00|          2018-06-21 15:34:32|          2018-07-04 00:00:00|\n",
      "|403b97836b0c04a62...|738b086814c6fcc74...|   delivered|     2018-01-02 19:00:43|2018-01-02 19:09:04|         2018-01-03 18:19:09|          2018-01-20 01:38:59|          2018-02-06 00:00:00|\n",
      "|116f0b09343b49556...|3187789bec9909876...|   delivered|     2017-12-26 23:41:31|2017-12-26 23:50:22|         2017-12-28 18:33:05|          2018-01-08 22:36:36|          2018-01-29 00:00:00|\n",
      "|85ce859fd6dc634de...|059f7fc5719c7da6c...|   delivered|     2017-11-21 00:03:41|2017-11-21 00:14:22|         2017-11-23 21:32:26|          2017-11-27 18:28:00|          2017-12-11 00:00:00|\n",
      "|83018ec114eee8641...|7f8c8b9c2ae27bf33...|   delivered|     2017-10-26 15:54:26|2017-10-26 16:08:14|         2017-10-26 21:46:53|          2017-11-08 22:22:00|          2017-11-23 00:00:00|\n",
      "+--------------------+--------------------+------------+------------------------+-------------------+----------------------------+-----------------------------+-----------------------------+\n",
      "only showing top 20 rows\n",
      "\n"
     ]
    }
   ],
   "source": [
    "order = spark.read.csv(\"C:/e_commerce_dataset/archive (1)/orders.csv\", header=True , inferSchema=True)\n",
    "order.show()"
   ]
  },
  {
   "cell_type": "code",
   "execution_count": null,
   "id": "84405ce9",
   "metadata": {},
   "outputs": [],
   "source": [
    "payment = spark.read.csv(\"C:/e_commerce_dataset/archive (1)/payments.csv\", header=True , inferSchema=True)\n",
    "payments= payment.dropDuplicates().dropna(subset= [\"order_id\",\"payment_value\" ,\"payment_type\"])\n",
    "payments.write.mode(\"overwrite\").parquet(\"C:/sonu gusain/ecommerce_project/cleaned_data/payments_cleaned\")\n"
   ]
  },
  {
   "cell_type": "code",
   "execution_count": 12,
   "id": "8c77e227",
   "metadata": {},
   "outputs": [],
   "source": [
    "product = spark.read.csv(\"C:/e_commerce_dataset/archive (1)/products.csv\", header=True , inferSchema=True)\n",
    "\n",
    "products= product.dropDuplicates().dropna(subset= [\"product_id\"])\n",
    "products.write.mode(\"overwrite\").parquet(\"C:/sonu gusain/ecommerce_project/cleaned_data/products_cleaned\")"
   ]
  },
  {
   "cell_type": "code",
   "execution_count": 13,
   "id": "44bc2105",
   "metadata": {},
   "outputs": [],
   "source": [
    "seller = spark.read.csv(\"C:/e_commerce_dataset/archive (1)/sellers.csv\", header=True , inferSchema=True)\n",
    "\n",
    "sellers= seller.dropDuplicates().dropna(subset= [\"seller_id\"])\n",
    "sellers.write.mode(\"overwrite\").parquet(\"C:/sonu gusain/ecommerce_project/cleaned_data/sellers_cleaned\")"
   ]
  },
  {
   "cell_type": "code",
   "execution_count": 4,
   "id": "a9e5f8a1",
   "metadata": {},
   "outputs": [],
   "source": [
    "orders =order.dropDuplicates().dropna(subset= [\"order_id\",\"order_delivered_customer_date\",\"customer_id\",\"order_status\",\"order_delivered_carrier_date\"])\\\n",
    ".withColumn(\"year\" , year(\"order_purchase_timestamp\"))\\\n",
    ".withColumn(\"month\" , month(\"order_purchase_timestamp\"))\\\n",
    ".withColumn(\"day\" , dayofmonth(\"order_purchase_timestamp\"))\\\n",
    ".withColumn(\"delibery_time_diff\" , datediff(\"order_delivered_customer_date\",\"order_purchase_timestamp\"))\n",
    "orders.write.mode(\"overwrite\").parquet(\"C:/sonu gusain/ecommerce_project/cleaned_data/orders_cleaned\")"
   ]
  }
 ],
 "metadata": {
  "kernelspec": {
   "display_name": "Python 3",
   "language": "python",
   "name": "python3"
  },
  "language_info": {
   "codemirror_mode": {
    "name": "ipython",
    "version": 3
   },
   "file_extension": ".py",
   "mimetype": "text/x-python",
   "name": "python",
   "nbconvert_exporter": "python",
   "pygments_lexer": "ipython3",
   "version": "3.10.11"
  }
 },
 "nbformat": 4,
 "nbformat_minor": 5
}
